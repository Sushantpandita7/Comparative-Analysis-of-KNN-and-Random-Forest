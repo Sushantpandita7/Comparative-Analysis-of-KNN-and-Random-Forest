{
 "cells": [
  {
   "cell_type": "markdown",
   "metadata": {},
   "source": [
    "# Data Preparation "
   ]
  },
  {
   "cell_type": "code",
   "execution_count": 16,
   "metadata": {},
   "outputs": [],
   "source": [
    "import pandas as pd\n",
    "import numpy as np"
   ]
  },
  {
   "cell_type": "code",
   "execution_count": 17,
   "metadata": {},
   "outputs": [
    {
     "data": {
      "text/plain": [
       "96733"
      ]
     },
     "execution_count": 17,
     "metadata": {},
     "output_type": "execute_result"
    }
   ],
   "source": [
    "data = pd.read_csv(\"C:\\\\Users\\\\90821\\\\Downloads\\\\loan.csv\")\n",
    "data = data.dropna()\n",
    "len(data)"
   ]
  },
  {
   "cell_type": "code",
   "execution_count": 18,
   "metadata": {},
   "outputs": [
    {
     "data": {
      "text/html": [
       "<div>\n",
       "<style scoped>\n",
       "    .dataframe tbody tr th:only-of-type {\n",
       "        vertical-align: middle;\n",
       "    }\n",
       "\n",
       "    .dataframe tbody tr th {\n",
       "        vertical-align: top;\n",
       "    }\n",
       "\n",
       "    .dataframe thead th {\n",
       "        text-align: right;\n",
       "    }\n",
       "</style>\n",
       "<table border=\"1\" class=\"dataframe\">\n",
       "  <thead>\n",
       "    <tr style=\"text-align: right;\">\n",
       "      <th></th>\n",
       "      <th>loan_amnt</th>\n",
       "      <th>term</th>\n",
       "      <th>int_rate</th>\n",
       "      <th>grade</th>\n",
       "      <th>emp_length</th>\n",
       "      <th>home_ownership</th>\n",
       "      <th>annual_inc</th>\n",
       "      <th>loan_status</th>\n",
       "    </tr>\n",
       "  </thead>\n",
       "  <tbody>\n",
       "    <tr>\n",
       "      <th>0</th>\n",
       "      <td>2500</td>\n",
       "      <td>36</td>\n",
       "      <td>13.56</td>\n",
       "      <td>C</td>\n",
       "      <td>10+ years</td>\n",
       "      <td>RENT</td>\n",
       "      <td>55000.0</td>\n",
       "      <td>Current</td>\n",
       "    </tr>\n",
       "    <tr>\n",
       "      <th>1</th>\n",
       "      <td>30000</td>\n",
       "      <td>60</td>\n",
       "      <td>18.94</td>\n",
       "      <td>D</td>\n",
       "      <td>10+ years</td>\n",
       "      <td>MORTGAGE</td>\n",
       "      <td>90000.0</td>\n",
       "      <td>Current</td>\n",
       "    </tr>\n",
       "    <tr>\n",
       "      <th>2</th>\n",
       "      <td>5000</td>\n",
       "      <td>36</td>\n",
       "      <td>17.97</td>\n",
       "      <td>D</td>\n",
       "      <td>6 years</td>\n",
       "      <td>MORTGAGE</td>\n",
       "      <td>59280.0</td>\n",
       "      <td>Current</td>\n",
       "    </tr>\n",
       "    <tr>\n",
       "      <th>3</th>\n",
       "      <td>4000</td>\n",
       "      <td>36</td>\n",
       "      <td>18.94</td>\n",
       "      <td>D</td>\n",
       "      <td>10+ years</td>\n",
       "      <td>MORTGAGE</td>\n",
       "      <td>92000.0</td>\n",
       "      <td>Current</td>\n",
       "    </tr>\n",
       "    <tr>\n",
       "      <th>4</th>\n",
       "      <td>30000</td>\n",
       "      <td>60</td>\n",
       "      <td>16.14</td>\n",
       "      <td>C</td>\n",
       "      <td>10+ years</td>\n",
       "      <td>MORTGAGE</td>\n",
       "      <td>57250.0</td>\n",
       "      <td>Current</td>\n",
       "    </tr>\n",
       "  </tbody>\n",
       "</table>\n",
       "</div>"
      ],
      "text/plain": [
       "   loan_amnt  term  int_rate grade emp_length home_ownership  annual_inc  \\\n",
       "0       2500    36     13.56     C  10+ years           RENT     55000.0   \n",
       "1      30000    60     18.94     D  10+ years       MORTGAGE     90000.0   \n",
       "2       5000    36     17.97     D    6 years       MORTGAGE     59280.0   \n",
       "3       4000    36     18.94     D  10+ years       MORTGAGE     92000.0   \n",
       "4      30000    60     16.14     C  10+ years       MORTGAGE     57250.0   \n",
       "\n",
       "  loan_status  \n",
       "0     Current  \n",
       "1     Current  \n",
       "2     Current  \n",
       "3     Current  \n",
       "4     Current  "
      ]
     },
     "execution_count": 18,
     "metadata": {},
     "output_type": "execute_result"
    }
   ],
   "source": [
    "data.head()"
   ]
  },
  {
   "cell_type": "code",
   "execution_count": 19,
   "metadata": {},
   "outputs": [
    {
     "data": {
      "text/plain": [
       "Index(['loan_amnt', 'term', 'int_rate', 'grade', 'emp_length',\n",
       "       'home_ownership', 'annual_inc', 'loan_status'],\n",
       "      dtype='object')"
      ]
     },
     "execution_count": 19,
     "metadata": {},
     "output_type": "execute_result"
    }
   ],
   "source": [
    "data.columns"
   ]
  },
  {
   "cell_type": "code",
   "execution_count": 20,
   "metadata": {},
   "outputs": [],
   "source": [
    "gradeLoanStatus = pd.get_dummies(data['loan_status'])\n",
    "data = pd.concat([data, gradeLoanStatus],axis=1)\n",
    "data.drop(['loan_status'],axis=1,inplace=True)"
   ]
  },
  {
   "cell_type": "code",
   "execution_count": 21,
   "metadata": {},
   "outputs": [],
   "source": [
    "gradeDummy = pd.get_dummies(data['grade'])\n",
    "data = pd.concat([data, gradeDummy],axis=1)\n",
    "data.drop(['grade'],axis=1,inplace=True)"
   ]
  },
  {
   "cell_type": "code",
   "execution_count": 22,
   "metadata": {},
   "outputs": [],
   "source": [
    "gradeHomeown = pd.get_dummies(data['home_ownership'])\n",
    "data = pd.concat([data, gradeHomeown],axis=1)\n",
    "data.drop(['home_ownership'],axis=1,inplace=True)"
   ]
  },
  {
   "cell_type": "code",
   "execution_count": 23,
   "metadata": {},
   "outputs": [],
   "source": [
    "gradeEmpLen = pd.get_dummies(data['emp_length'])\n",
    "data = pd.concat([data, gradeEmpLen],axis=1)\n",
    "data.drop(['emp_length'],axis=1,inplace=True)"
   ]
  },
  {
   "cell_type": "code",
   "execution_count": 24,
   "metadata": {},
   "outputs": [
    {
     "data": {
      "text/html": [
       "<div>\n",
       "<style scoped>\n",
       "    .dataframe tbody tr th:only-of-type {\n",
       "        vertical-align: middle;\n",
       "    }\n",
       "\n",
       "    .dataframe tbody tr th {\n",
       "        vertical-align: top;\n",
       "    }\n",
       "\n",
       "    .dataframe thead th {\n",
       "        text-align: right;\n",
       "    }\n",
       "</style>\n",
       "<table border=\"1\" class=\"dataframe\">\n",
       "  <thead>\n",
       "    <tr style=\"text-align: right;\">\n",
       "      <th></th>\n",
       "      <th>loan_amnt</th>\n",
       "      <th>term</th>\n",
       "      <th>int_rate</th>\n",
       "      <th>annual_inc</th>\n",
       "      <th>Charged Off</th>\n",
       "      <th>Current</th>\n",
       "      <th>Fully Paid</th>\n",
       "      <th>In Grace Period</th>\n",
       "      <th>Late (16-30 days)</th>\n",
       "      <th>Late (31-120 days)</th>\n",
       "      <th>...</th>\n",
       "      <th>10+ years</th>\n",
       "      <th>2 years</th>\n",
       "      <th>3 years</th>\n",
       "      <th>4 years</th>\n",
       "      <th>5 years</th>\n",
       "      <th>6 years</th>\n",
       "      <th>7 years</th>\n",
       "      <th>8 years</th>\n",
       "      <th>9 years</th>\n",
       "      <th>&lt; 1 year</th>\n",
       "    </tr>\n",
       "  </thead>\n",
       "  <tbody>\n",
       "    <tr>\n",
       "      <th>0</th>\n",
       "      <td>2500</td>\n",
       "      <td>36</td>\n",
       "      <td>13.56</td>\n",
       "      <td>55000.0</td>\n",
       "      <td>0</td>\n",
       "      <td>1</td>\n",
       "      <td>0</td>\n",
       "      <td>0</td>\n",
       "      <td>0</td>\n",
       "      <td>0</td>\n",
       "      <td>...</td>\n",
       "      <td>1</td>\n",
       "      <td>0</td>\n",
       "      <td>0</td>\n",
       "      <td>0</td>\n",
       "      <td>0</td>\n",
       "      <td>0</td>\n",
       "      <td>0</td>\n",
       "      <td>0</td>\n",
       "      <td>0</td>\n",
       "      <td>0</td>\n",
       "    </tr>\n",
       "    <tr>\n",
       "      <th>1</th>\n",
       "      <td>30000</td>\n",
       "      <td>60</td>\n",
       "      <td>18.94</td>\n",
       "      <td>90000.0</td>\n",
       "      <td>0</td>\n",
       "      <td>1</td>\n",
       "      <td>0</td>\n",
       "      <td>0</td>\n",
       "      <td>0</td>\n",
       "      <td>0</td>\n",
       "      <td>...</td>\n",
       "      <td>1</td>\n",
       "      <td>0</td>\n",
       "      <td>0</td>\n",
       "      <td>0</td>\n",
       "      <td>0</td>\n",
       "      <td>0</td>\n",
       "      <td>0</td>\n",
       "      <td>0</td>\n",
       "      <td>0</td>\n",
       "      <td>0</td>\n",
       "    </tr>\n",
       "    <tr>\n",
       "      <th>2</th>\n",
       "      <td>5000</td>\n",
       "      <td>36</td>\n",
       "      <td>17.97</td>\n",
       "      <td>59280.0</td>\n",
       "      <td>0</td>\n",
       "      <td>1</td>\n",
       "      <td>0</td>\n",
       "      <td>0</td>\n",
       "      <td>0</td>\n",
       "      <td>0</td>\n",
       "      <td>...</td>\n",
       "      <td>0</td>\n",
       "      <td>0</td>\n",
       "      <td>0</td>\n",
       "      <td>0</td>\n",
       "      <td>0</td>\n",
       "      <td>1</td>\n",
       "      <td>0</td>\n",
       "      <td>0</td>\n",
       "      <td>0</td>\n",
       "      <td>0</td>\n",
       "    </tr>\n",
       "    <tr>\n",
       "      <th>3</th>\n",
       "      <td>4000</td>\n",
       "      <td>36</td>\n",
       "      <td>18.94</td>\n",
       "      <td>92000.0</td>\n",
       "      <td>0</td>\n",
       "      <td>1</td>\n",
       "      <td>0</td>\n",
       "      <td>0</td>\n",
       "      <td>0</td>\n",
       "      <td>0</td>\n",
       "      <td>...</td>\n",
       "      <td>1</td>\n",
       "      <td>0</td>\n",
       "      <td>0</td>\n",
       "      <td>0</td>\n",
       "      <td>0</td>\n",
       "      <td>0</td>\n",
       "      <td>0</td>\n",
       "      <td>0</td>\n",
       "      <td>0</td>\n",
       "      <td>0</td>\n",
       "    </tr>\n",
       "    <tr>\n",
       "      <th>4</th>\n",
       "      <td>30000</td>\n",
       "      <td>60</td>\n",
       "      <td>16.14</td>\n",
       "      <td>57250.0</td>\n",
       "      <td>0</td>\n",
       "      <td>1</td>\n",
       "      <td>0</td>\n",
       "      <td>0</td>\n",
       "      <td>0</td>\n",
       "      <td>0</td>\n",
       "      <td>...</td>\n",
       "      <td>1</td>\n",
       "      <td>0</td>\n",
       "      <td>0</td>\n",
       "      <td>0</td>\n",
       "      <td>0</td>\n",
       "      <td>0</td>\n",
       "      <td>0</td>\n",
       "      <td>0</td>\n",
       "      <td>0</td>\n",
       "      <td>0</td>\n",
       "    </tr>\n",
       "  </tbody>\n",
       "</table>\n",
       "<p>5 rows × 32 columns</p>\n",
       "</div>"
      ],
      "text/plain": [
       "   loan_amnt  term  int_rate  annual_inc  Charged Off  Current  Fully Paid  \\\n",
       "0       2500    36     13.56     55000.0            0        1           0   \n",
       "1      30000    60     18.94     90000.0            0        1           0   \n",
       "2       5000    36     17.97     59280.0            0        1           0   \n",
       "3       4000    36     18.94     92000.0            0        1           0   \n",
       "4      30000    60     16.14     57250.0            0        1           0   \n",
       "\n",
       "   In Grace Period  Late (16-30 days)  Late (31-120 days)  ...  10+ years  \\\n",
       "0                0                  0                   0  ...          1   \n",
       "1                0                  0                   0  ...          1   \n",
       "2                0                  0                   0  ...          0   \n",
       "3                0                  0                   0  ...          1   \n",
       "4                0                  0                   0  ...          1   \n",
       "\n",
       "   2 years  3 years  4 years  5 years  6 years  7 years  8 years  9 years  \\\n",
       "0        0        0        0        0        0        0        0        0   \n",
       "1        0        0        0        0        0        0        0        0   \n",
       "2        0        0        0        0        1        0        0        0   \n",
       "3        0        0        0        0        0        0        0        0   \n",
       "4        0        0        0        0        0        0        0        0   \n",
       "\n",
       "   < 1 year  \n",
       "0         0  \n",
       "1         0  \n",
       "2         0  \n",
       "3         0  \n",
       "4         0  \n",
       "\n",
       "[5 rows x 32 columns]"
      ]
     },
     "execution_count": 24,
     "metadata": {},
     "output_type": "execute_result"
    }
   ],
   "source": [
    "data.head()"
   ]
  },
  {
   "cell_type": "markdown",
   "metadata": {},
   "source": [
    "# Predicting loan status with Random Forest "
   ]
  },
  {
   "cell_type": "code",
   "execution_count": 25,
   "metadata": {},
   "outputs": [],
   "source": [
    "labels = data[['Current', 'Fully Paid', 'Late (31-120 days)', 'In Grace Period',\n",
    "       'Charged Off', 'Late (16-30 days)']]\n",
    "features = data.drop(['Current', 'Fully Paid', 'Late (31-120 days)', 'In Grace Period',\n",
    "       'Charged Off', 'Late (16-30 days)'], axis = 1)\n",
    "features = np.array(features)\n",
    "labels = np.array(labels)"
   ]
  },
  {
   "cell_type": "code",
   "execution_count": 26,
   "metadata": {},
   "outputs": [],
   "source": [
    "from sklearn.model_selection import train_test_split\n",
    "train_features, test_features, train_labels, test_labels = train_test_split(features, labels, test_size = 0.3, random_state = 10)"
   ]
  },
  {
   "cell_type": "code",
   "execution_count": 27,
   "metadata": {},
   "outputs": [],
   "source": [
    "from sklearn.ensemble import RandomForestRegressor\n",
    "rf = RandomForestRegressor(n_estimators = 500, random_state = 42)\n",
    "rf.fit(train_features, train_labels);"
   ]
  },
  {
   "cell_type": "code",
   "execution_count": 37,
   "metadata": {},
   "outputs": [
    {
     "name": "stdout",
     "output_type": "stream",
     "text": [
      "Mean Absolute Error: 0.02\n",
      "0.11046329800665182\n"
     ]
    }
   ],
   "source": [
    "predictions = rf.predict(test_features)\n",
    "errors = abs(predictions - test_labels)\n",
    "print('Mean Absolute Error:', round(np.mean(errors), 2))\n",
    "error = sqrt(mean_squared_error(test_labels,predictions))\n",
    "print(error)"
   ]
  },
  {
   "cell_type": "markdown",
   "metadata": {},
   "source": [
    "# Predicting loan status with K nearest neighbours"
   ]
  },
  {
   "cell_type": "code",
   "execution_count": 29,
   "metadata": {},
   "outputs": [],
   "source": [
    "from sklearn.model_selection import train_test_split\n",
    "train_features, test_features, train_labels, test_labels = train_test_split(features, labels, test_size = 0.3, random_state = 10)"
   ]
  },
  {
   "cell_type": "code",
   "execution_count": 30,
   "metadata": {},
   "outputs": [],
   "source": [
    "from sklearn import neighbors\n",
    "from sklearn.metrics import mean_squared_error \n",
    "from math import sqrt\n",
    "import matplotlib.pyplot as plt\n",
    "%matplotlib inline"
   ]
  },
  {
   "cell_type": "code",
   "execution_count": 31,
   "metadata": {},
   "outputs": [
    {
     "name": "stdout",
     "output_type": "stream",
     "text": [
      "RMSE value for k=  1 is: 0.14386927726571874\n",
      "RMSE value for k=  2 is: 0.12637936392103793\n",
      "RMSE value for k=  3 is: 0.11940305531647247\n",
      "RMSE value for k=  4 is: 0.11546756694747683\n",
      "RMSE value for k=  5 is: 0.11319757818464275\n",
      "RMSE value for k=  6 is: 0.1117634385064909\n",
      "RMSE value for k=  7 is: 0.11060369439125328\n",
      "RMSE value for k=  8 is: 0.10966970936757427\n",
      "RMSE value for k=  9 is: 0.1090343737848569\n",
      "RMSE value for k=  10 is: 0.10847712629192556\n",
      "RMSE value for k=  11 is: 0.10805421481434112\n",
      "RMSE value for k=  12 is: 0.10776881135619316\n",
      "RMSE value for k=  13 is: 0.10747384581514521\n",
      "RMSE value for k=  14 is: 0.10726694705540435\n",
      "RMSE value for k=  15 is: 0.10708304710578333\n",
      "RMSE value for k=  16 is: 0.10693750456079845\n",
      "RMSE value for k=  17 is: 0.10680244189081332\n",
      "RMSE value for k=  18 is: 0.1066299373188847\n",
      "RMSE value for k=  19 is: 0.10649585925266852\n",
      "RMSE value for k=  20 is: 0.10636988851040409\n",
      "RMSE value for k=  21 is: 0.10625549472375773\n",
      "RMSE value for k=  22 is: 0.10611414570200928\n",
      "RMSE value for k=  23 is: 0.10604392358279958\n",
      "RMSE value for k=  24 is: 0.10595495750980162\n",
      "RMSE value for k=  25 is: 0.10587163512614794\n",
      "RMSE value for k=  26 is: 0.10577073683340152\n",
      "RMSE value for k=  27 is: 0.10570413516245614\n",
      "RMSE value for k=  28 is: 0.105643727112663\n",
      "RMSE value for k=  29 is: 0.10560056553920719\n",
      "RMSE value for k=  30 is: 0.10554114627931924\n",
      "RMSE value for k=  31 is: 0.105484274693889\n",
      "RMSE value for k=  32 is: 0.10546562245428766\n",
      "RMSE value for k=  33 is: 0.10542321324165277\n",
      "RMSE value for k=  34 is: 0.10536440767006047\n",
      "RMSE value for k=  35 is: 0.10532719278895528\n",
      "RMSE value for k=  36 is: 0.10529543236459254\n",
      "RMSE value for k=  37 is: 0.10525949248083874\n",
      "RMSE value for k=  38 is: 0.10523141456152954\n",
      "RMSE value for k=  39 is: 0.10515278400953978\n",
      "RMSE value for k=  40 is: 0.10513226930910932\n",
      "RMSE value for k=  41 is: 0.1051171323880066\n",
      "RMSE value for k=  42 is: 0.10509705173133532\n",
      "RMSE value for k=  43 is: 0.10505853535289246\n",
      "RMSE value for k=  44 is: 0.1050154963628997\n",
      "RMSE value for k=  45 is: 0.10498438897609087\n",
      "RMSE value for k=  46 is: 0.10497119921063891\n",
      "RMSE value for k=  47 is: 0.1049548554312216\n",
      "RMSE value for k=  48 is: 0.10493411771796815\n",
      "RMSE value for k=  49 is: 0.10489950120296355\n",
      "RMSE value for k=  50 is: 0.10488178285972992\n",
      "RMSE value for k=  51 is: 0.10484195769521883\n",
      "RMSE value for k=  52 is: 0.10482463976097844\n",
      "RMSE value for k=  53 is: 0.1048169843444062\n",
      "RMSE value for k=  54 is: 0.10480180458346738\n",
      "RMSE value for k=  55 is: 0.10477164494486346\n",
      "RMSE value for k=  56 is: 0.10475516145308046\n",
      "RMSE value for k=  57 is: 0.10473379142708075\n",
      "RMSE value for k=  58 is: 0.10472443103663014\n",
      "RMSE value for k=  59 is: 0.10472231703455678\n",
      "RMSE value for k=  60 is: 0.10470960807943025\n",
      "RMSE value for k=  61 is: 0.10469774589998906\n",
      "RMSE value for k=  62 is: 0.10467158288097182\n",
      "RMSE value for k=  63 is: 0.10468093876210008\n",
      "RMSE value for k=  64 is: 0.10467387248822972\n",
      "RMSE value for k=  65 is: 0.10465821050990398\n",
      "RMSE value for k=  66 is: 0.104644196921496\n",
      "RMSE value for k=  67 is: 0.1046358760876031\n",
      "RMSE value for k=  68 is: 0.10462012602759056\n",
      "RMSE value for k=  69 is: 0.10460857388603634\n",
      "RMSE value for k=  70 is: 0.10460371775193857\n",
      "RMSE value for k=  71 is: 0.10458783326656344\n",
      "RMSE value for k=  72 is: 0.10458443126201289\n",
      "RMSE value for k=  73 is: 0.10457740513229065\n",
      "RMSE value for k=  74 is: 0.10458193295361182\n",
      "RMSE value for k=  75 is: 0.10456380150482239\n",
      "RMSE value for k=  76 is: 0.10455701542819042\n",
      "RMSE value for k=  77 is: 0.10454486480032282\n",
      "RMSE value for k=  78 is: 0.10453600937810757\n",
      "RMSE value for k=  79 is: 0.10451990347596711\n",
      "RMSE value for k=  80 is: 0.10449744460354506\n",
      "RMSE value for k=  81 is: 0.10448402464266457\n",
      "RMSE value for k=  82 is: 0.10448039100705984\n",
      "RMSE value for k=  83 is: 0.10447911884558168\n",
      "RMSE value for k=  84 is: 0.10447180109419169\n",
      "RMSE value for k=  85 is: 0.10447414102436563\n",
      "RMSE value for k=  86 is: 0.10446186781063264\n",
      "RMSE value for k=  87 is: 0.10445261333870376\n",
      "RMSE value for k=  88 is: 0.10444001968147935\n",
      "RMSE value for k=  89 is: 0.10443355767792242\n",
      "RMSE value for k=  90 is: 0.10442842480735509\n",
      "RMSE value for k=  91 is: 0.10441517383493006\n",
      "RMSE value for k=  92 is: 0.10440493908855084\n",
      "RMSE value for k=  93 is: 0.10439739068932509\n",
      "RMSE value for k=  94 is: 0.10439013029499573\n",
      "RMSE value for k=  95 is: 0.10438364475935426\n",
      "RMSE value for k=  96 is: 0.10437483984656792\n",
      "RMSE value for k=  97 is: 0.10436966355287261\n",
      "RMSE value for k=  98 is: 0.10436772322677426\n",
      "RMSE value for k=  99 is: 0.10436373461392094\n",
      "RMSE value for k=  100 is: 0.10436238860478933\n"
     ]
    }
   ],
   "source": [
    "rmse_val = []\n",
    "\n",
    "for K in range(100):\n",
    "    K = K+1\n",
    "    model = neighbors.KNeighborsRegressor(n_neighbors = K)\n",
    "\n",
    "    model.fit(train_features , train_labels)  \n",
    "    pred=model.predict(test_features) \n",
    "    error = sqrt(mean_squared_error(test_labels,pred))\n",
    "    rmse_val.append(error)\n",
    "    print('RMSE value for k= ' , K , 'is:', error)"
   ]
  },
  {
   "cell_type": "code",
   "execution_count": 32,
   "metadata": {},
   "outputs": [
    {
     "data": {
      "text/plain": [
       "<matplotlib.axes._subplots.AxesSubplot at 0x18d8cb2a208>"
      ]
     },
     "execution_count": 32,
     "metadata": {},
     "output_type": "execute_result"
    },
    {
     "data": {
      "image/png": "[encoded data removed]",
      "text/plain": [
       "<Figure size 432x288 with 1 Axes>"
      ]
     },
     "metadata": {
      "needs_background": "light"
     },
     "output_type": "display_data"
    }
   ],
   "source": [
    "curve = pd.DataFrame(rmse_val) \n",
    "curve.plot()"
   ]
  },
  {
   "cell_type": "code",
   "execution_count": 34,
   "metadata": {},
   "outputs": [
    {
     "data": {
      "text/html": [
       "<div>\n",
       "<style scoped>\n",
       "    .dataframe tbody tr th:only-of-type {\n",
       "        vertical-align: middle;\n",
       "    }\n",
       "\n",
       "    .dataframe tbody tr th {\n",
       "        vertical-align: top;\n",
       "    }\n",
       "\n",
       "    .dataframe thead th {\n",
       "        text-align: right;\n",
       "    }\n",
       "</style>\n",
       "<table border=\"1\" class=\"dataframe\">\n",
       "  <thead>\n",
       "    <tr style=\"text-align: right;\">\n",
       "      <th></th>\n",
       "      <th>0</th>\n",
       "      <th>1</th>\n",
       "      <th>2</th>\n",
       "      <th>3</th>\n",
       "      <th>4</th>\n",
       "      <th>5</th>\n",
       "    </tr>\n",
       "  </thead>\n",
       "  <tbody>\n",
       "    <tr>\n",
       "      <th>0</th>\n",
       "      <td>0.98</td>\n",
       "      <td>0.02</td>\n",
       "      <td>0.00</td>\n",
       "      <td>0.00</td>\n",
       "      <td>0.0</td>\n",
       "      <td>0.0</td>\n",
       "    </tr>\n",
       "    <tr>\n",
       "      <th>1</th>\n",
       "      <td>0.98</td>\n",
       "      <td>0.01</td>\n",
       "      <td>0.00</td>\n",
       "      <td>0.01</td>\n",
       "      <td>0.0</td>\n",
       "      <td>0.0</td>\n",
       "    </tr>\n",
       "    <tr>\n",
       "      <th>2</th>\n",
       "      <td>0.94</td>\n",
       "      <td>0.05</td>\n",
       "      <td>0.01</td>\n",
       "      <td>0.00</td>\n",
       "      <td>0.0</td>\n",
       "      <td>0.0</td>\n",
       "    </tr>\n",
       "    <tr>\n",
       "      <th>3</th>\n",
       "      <td>0.98</td>\n",
       "      <td>0.02</td>\n",
       "      <td>0.00</td>\n",
       "      <td>0.00</td>\n",
       "      <td>0.0</td>\n",
       "      <td>0.0</td>\n",
       "    </tr>\n",
       "    <tr>\n",
       "      <th>4</th>\n",
       "      <td>0.99</td>\n",
       "      <td>0.01</td>\n",
       "      <td>0.00</td>\n",
       "      <td>0.00</td>\n",
       "      <td>0.0</td>\n",
       "      <td>0.0</td>\n",
       "    </tr>\n",
       "  </tbody>\n",
       "</table>\n",
       "</div>"
      ],
      "text/plain": [
       "      0     1     2     3    4    5\n",
       "0  0.98  0.02  0.00  0.00  0.0  0.0\n",
       "1  0.98  0.01  0.00  0.01  0.0  0.0\n",
       "2  0.94  0.05  0.01  0.00  0.0  0.0\n",
       "3  0.98  0.02  0.00  0.00  0.0  0.0\n",
       "4  0.99  0.01  0.00  0.00  0.0  0.0"
      ]
     },
     "execution_count": 34,
     "metadata": {},
     "output_type": "execute_result"
    }
   ],
   "source": [
    "model = neighbors.KNeighborsRegressor(n_neighbors = 100)\n",
    "model.fit(train_features , train_labels)  \n",
    "pred = model.predict(test_features) \n",
    "pred = pd.DataFrame(pred)\n",
    "pred.head()"
   ]
  },
  {
   "cell_type": "code",
   "execution_count": 35,
   "metadata": {},
   "outputs": [
    {
     "data": {
      "text/plain": [
       "0.10436238860478933"
      ]
     },
     "execution_count": 35,
     "metadata": {},
     "output_type": "execute_result"
    }
   ],
   "source": [
    "error = sqrt(mean_squared_error(test_labels,pred))\n",
    "error"
   ]
  },
  {
   "cell_type": "markdown",
   "metadata": {},
   "source": [
    "#### We observe that the K nearest neighbors method has been marginally more accurate for the classification of 'loan status'. While the difference in accuracy, as measured by the RMSE values, does not seem significant it is enough for the KNN model to be chosen for this data set."
   ]
  }
 ],
 "metadata": {
  "kernelspec": {
   "display_name": "Python 3",
   "language": "python",
   "name": "python3"
  },
  "language_info": {
   "codemirror_mode": {
    "name": "ipython",
    "version": 3
   },
   "file_extension": ".py",
   "mimetype": "text/x-python",
   "name": "python",
   "nbconvert_exporter": "python",
   "pygments_lexer": "ipython3",
   "version": "3.7.3"
  }
 },
 "nbformat": 4,
 "nbformat_minor": 2
}
